{
 "cells": [
  {
   "cell_type": "markdown",
   "id": "fcf0344e-2247-46b9-ba20-ff452b8644c5",
   "metadata": {},
   "source": [
    "# Cover Page \n",
    "### Student ID: 210003508\n",
    "### Module Code: GG4257 \n",
    "### Module Title: Urban Analytics: A Toolkit for Sustainable Urban Development\n",
    "### Assignment: Lab Assignment No 2 - Networks, Geodemographics and Spatial Microsimulation.\n",
    "### Degree Programme: Geography \n",
    "### Deadline Date: 02.04.2025\n",
    "\n",
    "In submitting this assignment, I hereby confirm that:\n",
    "\n",
    "I have read the University's statement on Good Academic Practice; that the following work is my own work; and that significant academic debts and borrowings have been properly acknowledged and referenced."
   ]
  },
  {
   "cell_type": "markdown",
   "id": "6a3b50b2-f778-4014-9ac2-2bb4e4c839ce",
   "metadata": {},
   "source": [
    "# Introduction \n",
    "\n",
    "This section outlines how to replicate the code and access the required data. All data will be available in a **OneDrive folder**, with the code provided in a dedicated GitHub repository.\n",
    "\n",
    "This report documents the work conducted for **Lab Assignment 2**, covering challenges from **Labs 5, 6 and 7**. Each lab section includes problem descriptions, methods, and results. Code is supplemented with comments and markdown explanations, with screenshots of outputs (e.g., maps and graphs) included to ensure clarity and help replication. To meet GitHub size limits, certain output cells have been cleared from the notebook. All data paths in the code assume files are stored in a folder named \"Data\". \n",
    "\n",
    "#### GitHub Username: Ejarrett\n",
    "#### GitHub Repository: [UA_Lab_Assignment_2](https://github.com/ejarrettt/UA_Lab_Assignment_2)\n",
    "#### [OneDrive Folder](https://1drv.ms/f/c/46775ff05561cd60/EtpKCVLnUXtMupoCXG5G86QB-GfpojgYMR0f4hgJI-Fclg?e=bvGWOb)\n",
    "\n",
    "To replicate this report:\n",
    "1. Clone the GitHub repository.\n",
    "2. Download the datasets from the [OneDrive Folder](https://1drv.ms/f/c/46775ff05561cd60/EtpKCVLnUXtMupoCXG5G86QB-GfpojgYMR0f4hgJI-Fclg?e=bvGWOb)\n",
    "3. Unzip the folder and copy the \"Data\" folder to the same place you have stored the notebook. \n",
    "4. Run this notebook. "
   ]
  },
  {
   "cell_type": "markdown",
   "id": "1c5f8c55-cb26-4059-9518-1b18cb76912c",
   "metadata": {},
   "source": [
    "# Lab No 5: Introduction to Networks (2 Challenges)"
   ]
  },
  {
   "cell_type": "code",
   "execution_count": null,
   "id": "94f84e22",
   "metadata": {},
   "outputs": [],
   "source": [
    "# Install dependencies \n",
    "! pip install -r requirements.txt"
   ]
  },
  {
   "cell_type": "markdown",
   "id": "2c6c164b-da19-40b4-ba0a-a95c2b893b1d",
   "metadata": {},
   "source": [
    "## Challenge 1:\n",
    "\n",
    "It's time for you to apply everything you learned by analyzing a case study of FourSquare social Network. (Foursquare is a location-based online social network. The dataset contains a list of all of the user-to-user links)\n",
    "\n",
    "Datasource: @inproceedings{gao2012exploring,\n",
    "     title={Exploring social-historical ties on location-based social networks},\n",
    "     author={Gao, Huiji and Tang, Jiliang and Liu, Huan},\n",
    "     booktitle={Proceedings of the 6th International AAAI Conference on Weblogs and Social Media},\n",
    "     year={2012}\n",
    "}\n",
    "\n",
    "- **Data**: `FS.csv` (avaliable in Moodle)\n",
    "\n",
    "1. Read the FS network dataset.\n",
    "2. Describe using the basic functions of the graph's size. Explore nodes and edges. Provide how many nodes and edges are present in the network.\n",
    "3. The dataset generates a graph of 639.014 nodes, so it is massive and you won't see anything meaningful if you try to plot it. So you need to create a subset using the **degree centrality** to find out find the top 4 of the most important nodes, and use them to create a subset of the original network. \n",
    "4. Extract the degree centrality values and convert them into a list. Then, plot a histogram to visualize the distribution of node degrees in the original network.\n",
    "5. Create a plot for the subset created.\n",
    "6. Now calculate another relevant measure of the network -- **betweenness centrality**. Plot the betweenness centrality distribution of the subset you created. Tip: Same steps from the previous step, but use `nx.betweenness_centrality()`\n",
    "7. Plot the Matrix, Arc and Circos from the subset."
   ]
  },
  {
   "cell_type": "markdown",
   "id": "736d833a-e725-46d1-b7df-4746bc8ac3ff",
   "metadata": {},
   "source": [
    "## Challenge 2: \n",
    "\n",
    "This challenge is about OSMnx. You will explore and analyze a city's street network using the OSMnx Python library.\n",
    "\n",
    "1. Use OSMnx to download the street network of a city of your choice. You can specify the city name, BBox or a Dict.\n",
    "2. Calculate basic statistics for the street network, such as the number of nodes, edges, average node degree, etc.\n",
    "3. Use OSMnx to plot the street network. Customize the plot to make it visually appealing, including node size, edge color. See the potential options here: https://osmnx.readthedocs.io/en/stable/user-reference.html#module-osmnx.plot\n",
    "4. Utilize the routing capabilities of OSMnx to find the shortest path between two points in the street network. Plot the route on top of the street network.\n",
    "5. Calculate the centrality measures (e.g., degree centrality and betweenness_centrality) for nodes in the street network.\n",
    "6. Create the figure-groud from the selected city\n",
    "7. Create interactive maps to plot nodes, edges, nodes+edges and one of the centrality measures.\n",
    "8. Export the street network to a GeoPackage (.gpkg) file. Ensure that the exported file contains both node and edge attributes. Demonstrate that the new GeoPackage can be used and read in Python using any of the libraries we have seen in the class to create a simple and interactive map.\n",
    "9. Finally, use OSMnx to extract other urban elements (e.g., buildings, parks) and plot them."
   ]
  },
  {
   "cell_type": "markdown",
   "id": "2ccfc008-d07d-451f-86e8-e4edb053599c",
   "metadata": {},
   "source": [
    "# Lab No 6: Geodemographics (1 Challenge)"
   ]
  },
  {
   "cell_type": "markdown",
   "id": "4aeec99d-a5cc-4e2e-b6e6-e10e38fc51b9",
   "metadata": {},
   "source": [
    "## Challenge 1: Geodemographic Classification\n",
    "\n",
    "In this challenge, you will replicate the process of creating a geodemographic classification using the k-means clustering algorithm. Please select any city in the UK except London, Liverpool, or Glasgow. The main goal is to generate a meaningful and informative classification that captures the diversity of areas in your dataset using the census data ( For England, you can try to use the 2021 or 2011 census, and for Scotland, you need to use the 2011 census data) \n",
    "\n",
    "1. Define the main goal for the geodemographic classification (marketing, retail and service planning). \n",
    "2. Look for census data from the selected city for which you would like to generate the geodemographic classification.\n",
    "3. The census data at the Output Area OA level. Select multiple topics of at least four topics (socio-demographics, economics, health, and so on). Describe your topic selection accordingly based on the goal of your geodemographic classification. For example, if your geodemographics are related to marketing, Economic variables might be the appropriate selection. \n",
    "4. Identify the variables that will be crucial for effectively segmenting neighbourhoods. Evaluate how this choice may impact the classification results, including a DEA analysis.\n",
    "5. Prepare, adjust or clean the dataset addressing any missing values or outliers that could distort the clustering results.\n",
    "6. Include standardisation between areas and variables. Make an appropriate analysis and adjust the variable selection accordingly for any multicollinearity.\n",
    "7. Utilize the k-means clustering algorithm to create a classification based on the selected variables.\n",
    "8. Define the optimum number of clusters (i.e., using the Elblow method). Experiment with different values of k.\n",
    "9. Evaluate your cluster groups (e.g., using PCA) and interpret your cluster centres. Describe your results and repeat the process to adjust the variable selection and cluster groups to provide more meaningful results for your geodemographic goal. Interpret the characteristics of each cluster. What demographic patterns or similarities are prevalent within each group?\n",
    "10. Map the final cluster groups\n",
    "11. Finish the analysis by naming the final clusters and plotting a final map that includes the census values and the provided names.\n",
    "12. Finally, acknowledge the subjective nature of classification and make analytical decisions to produce an optimum classification for your specific purpose. Reflect on the challenges and insights gained during the classification process. Ensure you document your analytical decisions and the rationale behind any important decision. Once your geodemographics are constructed, describe the potential use cases for the geodemographic classification you have built based on your initial goal."
   ]
  },
  {
   "cell_type": "markdown",
   "id": "f3a6440b-3a4f-4a99-a807-19a4d1ef1aa6",
   "metadata": {},
   "source": [
    "# Lab No 7: Spatial Microsimulation (3 Challenges)"
   ]
  },
  {
   "cell_type": "markdown",
   "id": "ab613243-ba52-476b-b88c-ffddadbdb7e8",
   "metadata": {},
   "source": [
    "## Challenge 1: "
   ]
  },
  {
   "cell_type": "markdown",
   "id": "f169811b-991b-4e6d-8a52-57148eec2252",
   "metadata": {},
   "source": [
    "## Challenge 2: "
   ]
  },
  {
   "cell_type": "markdown",
   "id": "54a71392-c3d1-4a33-8366-f11af8ad5f02",
   "metadata": {},
   "source": [
    "## Challenge 3: "
   ]
  },
  {
   "cell_type": "markdown",
   "id": "80db6c2e",
   "metadata": {},
   "source": [
    "# Final Remarks (limitations, barriers, and any additional comments)"
   ]
  }
 ],
 "metadata": {
  "kernelspec": {
   "display_name": "Python 3",
   "language": "python",
   "name": "python3"
  },
  "language_info": {
   "codemirror_mode": {
    "name": "ipython",
    "version": 3
   },
   "file_extension": ".py",
   "mimetype": "text/x-python",
   "name": "python",
   "nbconvert_exporter": "python",
   "pygments_lexer": "ipython3",
   "version": "3.12.0"
  }
 },
 "nbformat": 4,
 "nbformat_minor": 5
}

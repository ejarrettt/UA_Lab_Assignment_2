{
 "cells": [
  {
   "cell_type": "markdown",
   "id": "fcf0344e-2247-46b9-ba20-ff452b8644c5",
   "metadata": {},
   "source": [
    "# Cover Page \n",
    "### Student ID: 210003508\n",
    "### Module Code: GG4257 \n",
    "### Module Title: Urban Analytics: A Toolkit for Sustainable Urban Development\n",
    "### Assignment: Lab Assignment No 2 - Networks, Geodemographics and Spatial Microsimulation.\n",
    "### Degree Programme: Geography \n",
    "### Deadline Date: 02.04.2025\n",
    "\n",
    "In submitting this assignment, I hereby confirm that:\n",
    "\n",
    "I have read the University's statement on Good Academic Practice; that the following work is my own work; and that significant academic debts and borrowings have been properly acknowledged and referenced."
   ]
  },
  {
   "cell_type": "markdown",
   "id": "6a3b50b2-f778-4014-9ac2-2bb4e4c839ce",
   "metadata": {},
   "source": [
    "# Introduction \n",
    "\n",
    "This section outlines how to replicate the code and access the required data. All data will be available in a **OneDrive folder**, with the code provided in a dedicated GitHub repository.\n",
    "\n",
    "This report documents the work conducted for **Lab Assignment 2**, covering challenges from **Labs 5, 6 and 7**. Each lab section includes problem descriptions, methods, and results. Code is supplemented with comments and markdown explanations, with screenshots of outputs (e.g., maps and graphs) included to ensure clarity and help replication. To meet GitHub size limits, certain output cells have been cleared from the notebook. All data paths in the code assume files are stored in a folder named \"Data\". \n",
    "\n",
    "#### GitHub Username: Ejarrett\n",
    "#### GitHub Repository: [UA_Lab_Assignment_2](https://github.com/ejarrettt/UA_Lab_Assignment_2)\n",
    "#### [OneDrive Folder](https://1drv.ms/f/c/46775ff05561cd60/EtpKCVLnUXtMupoCXG5G86QB-GfpojgYMR0f4hgJI-Fclg?e=bvGWOb)\n",
    "\n",
    "To replicate this report:\n",
    "1. Clone the GitHub repository.\n",
    "2. Download the datasets from the [OneDrive Folder](https://1drv.ms/f/c/46775ff05561cd60/EtpKCVLnUXtMupoCXG5G86QB-GfpojgYMR0f4hgJI-Fclg?e=bvGWOb)\n",
    "3. Unzip the folder and copy the \"Data\" folder to the same place you have stored the notebook. \n",
    "4. Run this notebook. "
   ]
  },
  {
   "cell_type": "markdown",
   "id": "1c5f8c55-cb26-4059-9518-1b18cb76912c",
   "metadata": {},
   "source": [
    "# Lab No 5: Introduction to Networks (2 Challenges)"
   ]
  },
  {
   "cell_type": "code",
   "execution_count": null,
   "id": "94f84e22",
   "metadata": {},
   "outputs": [],
   "source": [
    "# Install dependencies \n",
    "! pip install -r requirements.txt"
   ]
  },
  {
   "cell_type": "code",
   "execution_count": 1,
   "id": "daa65102",
   "metadata": {},
   "outputs": [],
   "source": [
    "import warnings\n",
    "warnings.simplefilter('ignore', DeprecationWarning)\n",
    "warnings.filterwarnings('ignore')"
   ]
  },
  {
   "cell_type": "markdown",
   "id": "2c6c164b-da19-40b4-ba0a-a95c2b893b1d",
   "metadata": {},
   "source": [
    "## Challenge 1:\n",
    "\n",
    "It's time for you to apply everything you learned by analyzing a case study of FourSquare social Network. (Foursquare is a location-based online social network. The dataset contains a list of all of the user-to-user links)\n",
    "\n",
    "Datasource: @inproceedings{gao2012exploring,\n",
    "     title={Exploring social-historical ties on location-based social networks},\n",
    "     author={Gao, Huiji and Tang, Jiliang and Liu, Huan},\n",
    "     booktitle={Proceedings of the 6th International AAAI Conference on Weblogs and Social Media},\n",
    "     year={2012}\n",
    "}\n",
    "\n",
    "- **Data**: `FS.csv` (avaliable in Moodle)\n",
    "\n",
    "1. Read the FS network dataset.\n",
    "2. Describe using the basic functions of the graph's size. Explore nodes and edges. Provide how many nodes and edges are present in the network.\n",
    "3. The dataset generates a graph of 639.014 nodes, so it is massive and you won't see anything meaningful if you try to plot it. So you need to create a subset using the **degree centrality** to find out find the top 4 of the most important nodes, and use them to create a subset of the original network. \n",
    "4. Extract the degree centrality values and convert them into a list. Then, plot a histogram to visualize the distribution of node degrees in the original network.\n",
    "5. Create a plot for the subset created.\n",
    "6. Now calculate another relevant measure of the network -- **betweenness centrality**. Plot the betweenness centrality distribution of the subset you created. Tip: Same steps from the previous step, but use `nx.betweenness_centrality()`\n",
    "7. Plot the Matrix, Arc and Circos from the subset."
   ]
  },
  {
   "cell_type": "code",
   "execution_count": 2,
   "id": "e539af73",
   "metadata": {},
   "outputs": [],
   "source": [
    "import pandas as pd\n",
    "import networkx as nx\n",
    "import matplotlib.pyplot as plt\n",
    "import numpy as np\n",
    "import seaborn as sns"
   ]
  },
  {
   "cell_type": "markdown",
   "id": "849fccd2",
   "metadata": {},
   "source": [
    "### Q1. Read the FS network dataset."
   ]
  },
  {
   "cell_type": "code",
   "execution_count": 3,
   "id": "d9a6972d",
   "metadata": {},
   "outputs": [
    {
     "name": "stdout",
     "output_type": "stream",
     "text": [
      "Index(['source', 'target'], dtype='object')\n"
     ]
    }
   ],
   "source": [
    "# Load Data\n",
    "fs_network = pd.read_csv(\"/Users/elenajarrett/Library/CloudStorage/OneDrive-Personal/Year 4/GG4257/Data2/Data/data5/FS.csv\")\n",
    "\n",
    "# Print column names\n",
    "print(fs_network.columns)\n"
   ]
  },
  {
   "cell_type": "code",
   "execution_count": 4,
   "id": "6845177e",
   "metadata": {},
   "outputs": [],
   "source": [
    "# Create Graph using correct column names\n",
    "G = nx.from_pandas_edgelist(fs_network, source='source', target='target')"
   ]
  },
  {
   "cell_type": "markdown",
   "id": "65d5b2d9",
   "metadata": {},
   "source": [
    "### Q2. Describe using the basic functions of the graph's size. Explore nodes and edges. Provide how many nodes and edges are present in the network."
   ]
  },
  {
   "cell_type": "code",
   "execution_count": 5,
   "id": "1d926f3d",
   "metadata": {},
   "outputs": [
    {
     "name": "stdout",
     "output_type": "stream",
     "text": [
      "639014\n",
      "<class 'networkx.classes.reportviews.NodeView'>\n",
      "(94306, 128953, {})\n",
      "(34802, {})\n",
      "<class 'dict'>\n"
     ]
    }
   ],
   "source": [
    "print(len(G))# Tells you the size of the graph `T`, \n",
    "print(type(G.nodes())) # Tells you the type of `T.nodes()`\n",
    "print(list(G.edges(data=True))[-1]) # Read the attributes associated with the last element of the edges list. \n",
    "print(list(G.nodes(data=True))[0]) # Read the attributes associated with the first element of the node list.\n",
    "print(type(list(G.edges(data=True))[-1][2])) # Which type; therefore, you can see what you are reading."
   ]
  },
  {
   "cell_type": "code",
   "execution_count": 6,
   "id": "b1d493ad",
   "metadata": {},
   "outputs": [
    {
     "name": "stdout",
     "output_type": "stream",
     "text": [
      "The size of the graph is: 639014\n",
      "The number of edges in the graph is: 3214986\n",
      "The number of nodes in the graph is: 639014\n"
     ]
    }
   ],
   "source": [
    "# Using len to read the size of the graph\n",
    "print(f\"The size of the graph is: {len(G)}\")\n",
    "# Using len to read the number of edges and nodes\n",
    "print(f\"The number of edges in the graph is: {len(G.edges())}\")\n",
    "print(f\"The number of nodes in the graph is: {len(G.nodes())}\")"
   ]
  },
  {
   "cell_type": "markdown",
   "id": "4bdf823a",
   "metadata": {},
   "source": [
    "### Q3. The dataset generates a graph of 639.014 nodes, so it is massive and you won't see anything meaningful if you try to plot it. So you need to create a subset using the **degree centrality** to find out find the top 4 of the most important nodes, and use them to create a subset of the original network."
   ]
  },
  {
   "cell_type": "code",
   "execution_count": 7,
   "id": "f9e4de5a",
   "metadata": {},
   "outputs": [
    {
     "name": "stdout",
     "output_type": "stream",
     "text": [
      "Top 4 nodes with highest degree centrality: [106223, 89302, 76517, 66999]\n"
     ]
    }
   ],
   "source": [
    "# Step 3: Compute Degree Centrality\n",
    "degree_centrality = nx.degree_centrality(G)\n",
    "\n",
    "# Get the top 4 nodes with highest degree centrality\n",
    "top_4_nodes = sorted(degree_centrality, key=degree_centrality.get, reverse=True)[:4]\n",
    "print(\"Top 4 nodes with highest degree centrality:\", top_4_nodes)\n",
    "\n",
    "# Create a subgraph with these nodes and their connections\n",
    "subgraph_nodes = set(top_4_nodes)\n",
    "for node in top_4_nodes:\n",
    "    subgraph_nodes.update(G.neighbors(node))\n",
    "G_sub = G.subgraph(subgraph_nodes)"
   ]
  },
  {
   "cell_type": "markdown",
   "id": "2806d116",
   "metadata": {},
   "source": [
    "### Q4. Extract the degree centrality values and convert them into a list. Then, plot a histogram to visualize the distribution of node degrees in the original network."
   ]
  },
  {
   "cell_type": "code",
   "execution_count": 8,
   "id": "7f5587c5",
   "metadata": {},
   "outputs": [
    {
     "data": {
      "image/png": "[encoded data removed]",
      "text/plain": [
       "<Figure size 800x500 with 1 Axes>"
      ]
     },
     "metadata": {},
     "output_type": "display_data"
    }
   ],
   "source": [
    "# Step 4: Degree Distribution Plot\n",
    "degree_values = list(dict(G.degree()).values())\n",
    "plt.figure(figsize=(8, 5))\n",
    "plt.hist(degree_values, bins=50, color='blue', edgecolor='black')\n",
    "plt.xlabel(\"Degree\")\n",
    "plt.ylabel(\"Frequency\")\n",
    "plt.title(\"Degree Distribution in Original Network\")\n",
    "plt.show()"
   ]
  },
  {
   "cell_type": "markdown",
   "id": "bc2b326c",
   "metadata": {},
   "source": [
    "### Q5. Create a plot for the subset created."
   ]
  },
  {
   "cell_type": "code",
   "execution_count": null,
   "id": "edb9cc70",
   "metadata": {},
   "outputs": [],
   "source": [
    "plt.figure(figsize=(8, 8))\n",
    "nx.draw(G_sub, with_labels=True, node_size=100, node_color='skyblue', edge_color='gray')\n",
    "plt.title(\"Subgraph of Top 4 Nodes\")\n",
    "plt.show()"
   ]
  },
  {
   "cell_type": "markdown",
   "id": "29fe17db",
   "metadata": {},
   "source": [
    "### Q6. Now calculate another relevant measure of the network -- **betweenness centrality**. Plot the betweenness centrality distribution of the subset you created. Tip: Same steps from the previous step, but use `nx.betweenness_centrality()`"
   ]
  },
  {
   "cell_type": "code",
   "execution_count": null,
   "id": "63463735",
   "metadata": {},
   "outputs": [],
   "source": [
    "# Step 6: Compute and Plot Betweenness Centrality\n",
    "betweenness_centrality = nx.betweenness_centrality(G_sub)\n",
    "plt.figure(figsize=(8, 5))\n",
    "plt.hist(betweenness_centrality.values(), bins=20, color='red', edgecolor='black')\n",
    "plt.xlabel(\"Betweenness Centrality\")\n",
    "plt.ylabel(\"Frequency\")\n",
    "plt.title(\"Betweenness Centrality Distribution in Subgraph\")\n",
    "plt.show()"
   ]
  },
  {
   "cell_type": "markdown",
   "id": "ae6930f5",
   "metadata": {},
   "source": [
    "### Q7. Plot the Matrix, Arc and Circos from the subset."
   ]
  },
  {
   "cell_type": "code",
   "execution_count": null,
   "id": "74da384b",
   "metadata": {},
   "outputs": [],
   "source": [
    "# Adjacency Matrix Plot\n",
    "plt.figure(figsize=(8, 8))\n",
    "sns.heatmap(nx.to_numpy_array(G_sub), cmap='coolwarm', square=True)\n",
    "plt.title(\"Adjacency Matrix of Subgraph\")\n",
    "plt.show()"
   ]
  },
  {
   "cell_type": "code",
   "execution_count": null,
   "id": "d0092354",
   "metadata": {},
   "outputs": [],
   "source": [
    "# Arc Diagram\n",
    "plt.figure(figsize=(10, 5))\n",
    "nx.draw(G_sub, with_labels=False, node_size=50, edge_color='black', alpha=0.5, pos=nx.circular_layout(G_sub))\n",
    "plt.title(\"Arc Diagram of Subgraph\")\n",
    "plt.show()"
   ]
  },
  {
   "cell_type": "code",
   "execution_count": null,
   "id": "10998a33",
   "metadata": {},
   "outputs": [],
   "source": [
    "# Circos Plot\n",
    "plt.figure(figsize=(10, 10))\n",
    "nx.draw_circular(G_sub, with_labels=True, node_size=200, edge_color='gray')\n",
    "plt.title(\"Circos Plot of Subgraph\")\n",
    "plt.show()"
   ]
  },
  {
   "cell_type": "markdown",
   "id": "736d833a-e725-46d1-b7df-4746bc8ac3ff",
   "metadata": {},
   "source": [
    "## Challenge 2: \n",
    "\n",
    "This challenge is about OSMnx. You will explore and analyze a city's street network using the OSMnx Python library.\n",
    "\n",
    "1. Use OSMnx to download the street network of a city of your choice. You can specify the city name, BBox or a Dict.\n",
    "2. Calculate basic statistics for the street network, such as the number of nodes, edges, average node degree, etc.\n",
    "3. Use OSMnx to plot the street network. Customize the plot to make it visually appealing, including node size, edge color. See the potential options here: https://osmnx.readthedocs.io/en/stable/user-reference.html#module-osmnx.plot\n",
    "4. Utilize the routing capabilities of OSMnx to find the shortest path between two points in the street network. Plot the route on top of the street network.\n",
    "5. Calculate the centrality measures (e.g., degree centrality and betweenness_centrality) for nodes in the street network.\n",
    "6. Create the figure-groud from the selected city\n",
    "7. Create interactive maps to plot nodes, edges, nodes+edges and one of the centrality measures.\n",
    "8. Export the street network to a GeoPackage (.gpkg) file. Ensure that the exported file contains both node and edge attributes. Demonstrate that the new GeoPackage can be used and read in Python using any of the libraries we have seen in the class to create a simple and interactive map.\n",
    "9. Finally, use OSMnx to extract other urban elements (e.g., buildings, parks) and plot them."
   ]
  },
  {
   "cell_type": "markdown",
   "id": "61a9fe65",
   "metadata": {},
   "source": [
    "### Q1. Use OSMnx to download the street network of a city of your choice. You can specify the city name, BBox or a Dict."
   ]
  },
  {
   "cell_type": "code",
   "execution_count": null,
   "id": "4e36bccc-62f8-4ca5-a8aa-18a2157a0d84",
   "metadata": {},
   "outputs": [],
   "source": [
    "import osmnx as ox\n",
    "import matplotlib.pyplot as plt\n",
    "import warnings"
   ]
  },
  {
   "cell_type": "code",
   "execution_count": null,
   "id": "e82fae25-3716-4a10-85ba-31d5c66edcf8",
   "metadata": {},
   "outputs": [],
   "source": [
    "# Define Birmingham city centre (Birmingham New Street Station)\n",
    "birmingham_centre = (52.4778, -1.8984)\n",
    "two_miles = 3218.68  # meters\n",
    "\n",
    "# Retrieve the street network for driving routes within one mile\n",
    "G_birmingham = ox.graph_from_point(birmingham_centre, dist=two_miles, network_type=\"drive\")\n",
    "\n",
    "# Plot the graph\n",
    "fig, ax = ox.plot_graph(G_birmingham, node_size=0, figsize=(10, 10))\n",
    "plt.show()\n"
   ]
  },
  {
   "cell_type": "code",
   "execution_count": null,
   "id": "7f9c623d",
   "metadata": {},
   "outputs": [],
   "source": [
    "# Conversion to a gdf\n",
    "warnings.simplefilter('ignore', DeprecationWarning)\n",
    "\n",
    "# Using graph to gdfs\n",
    "gdf_nodes, gdf_edges = ox.graph_to_gdfs(G_birmingham)\n",
    "# Now there is a geodataframe (G_dub) that has the edges and the nodes. "
   ]
  },
  {
   "cell_type": "markdown",
   "id": "24f19a66",
   "metadata": {},
   "source": [
    "### Q2. Calculate basic statistics for the street network, such as the number of nodes, edges, average node degree, etc."
   ]
  },
  {
   "cell_type": "code",
   "execution_count": null,
   "id": "c345ce74",
   "metadata": {},
   "outputs": [],
   "source": [
    "# Finding the area in meters of the map \n",
    "warnings.filterwarnings('ignore')\n",
    "G_birmingham_proj = ox.project_graph(G_birmingham)\n",
    "nodes_proj = ox.graph_to_gdfs(G_birmingham_proj, edges=False)\n",
    "graph_area_m = nodes_proj.unary_union.convex_hull.area\n",
    "graph_area_m"
   ]
  },
  {
   "cell_type": "code",
   "execution_count": null,
   "id": "4556de17",
   "metadata": {},
   "outputs": [],
   "source": [
    "# Basic statistics of the map \n",
    "ox.basic_stats(G_birmingham_proj, area=graph_area_m, clean_int_tol=15)"
   ]
  },
  {
   "cell_type": "code",
   "execution_count": null,
   "id": "441426c1",
   "metadata": {},
   "outputs": [],
   "source": [
    "# Here, I can use .edges/.nodes and len() to print the number of nodes and edges; this is already included above with n and m, but this will make it extra clear. \n",
    "print(len(list(G_birmingham.edges)))\n",
    "print(len(list(G_birmingham.nodes)))"
   ]
  },
  {
   "cell_type": "markdown",
   "id": "c1583de6",
   "metadata": {},
   "source": [
    "### Q3. Use OSMnx to plot the street network. Customize the plot to make it visually appealing, including node size, edge color. See the potential options here: https://osmnx.readthedocs.io/en/stable/user-reference.html#module-osmnx.plot"
   ]
  },
  {
   "cell_type": "code",
   "execution_count": null,
   "id": "a323ac56",
   "metadata": {},
   "outputs": [],
   "source": [
    "# Customizing the plot using matplotlib\n",
    "fig, ax = ox.plot_graph(G_birmingham,\n",
    "                         figsize=(10, 10),  # Adjusting figure size \n",
    "                         node_size=2,  # Increased the node size to 2 \n",
    "                         edge_color=\"red\",  # Made all the edges red for contrast\n",
    "                         edge_linewidth=0.5,  # Made all the edges 0.5 thickness \n",
    "                         show=False)  # I'd like to add a title later. \n",
    "\n",
    "plt.title(\"Street Network around Birmingham New Street Station Within Two Miles\")  # Adding a title\n",
    "\n",
    "plt.show()  # Displaying the plot"
   ]
  },
  {
   "cell_type": "markdown",
   "id": "048d888b",
   "metadata": {},
   "source": [
    "### Q4. Utilize the routing capabilities of OSMnx to find the shortest path between two points in the street network. Plot the route on top of the street network."
   ]
  },
  {
   "cell_type": "code",
   "execution_count": null,
   "id": "a390661a",
   "metadata": {},
   "outputs": [],
   "source": [
    "# Using add_edge_speeds and travel times\n",
    "G_birmingham = ox.speed.add_edge_speeds(G_birmingham)\n",
    "G_birmingham = ox.speed.add_edge_travel_times(G_birmingham)"
   ]
  },
  {
   "cell_type": "code",
   "execution_count": null,
   "id": "f93b6a24",
   "metadata": {},
   "outputs": [],
   "source": [
    "# Getting the nearest network nodes to two lat/lng points with the distance module\n",
    "orig = ox.distance.nearest_nodes(G_birmingham, X=-1.8984, Y=52.4778)  # Birmingham New Street Station\n",
    "dest = ox.distance.nearest_nodes(G_birmingham, X=-1.8881, Y=52.4862)  # Aston University\n",
    "\n",
    "print(f\"Origin Node: {orig}, Destination Node: {dest}\")"
   ]
  },
  {
   "cell_type": "code",
   "execution_count": null,
   "id": "baa13eac",
   "metadata": {},
   "outputs": [],
   "source": [
    "# finding the shortest path between nodes, minimizing travel time, then plotting it\n",
    "route = ox.shortest_path(G_birmingham, orig, dest, weight=\"travel_time\")\n",
    "fig, ax = ox.plot_graph_route(G_birmingham, route, node_size=0)"
   ]
  },
  {
   "cell_type": "markdown",
   "id": "dd58452f",
   "metadata": {},
   "source": [
    "### Q5. Calculate the centrality measures (e.g., degree centrality and betweenness_centrality) for nodes in the street network."
   ]
  },
  {
   "cell_type": "code",
   "execution_count": null,
   "id": "0a0b8600",
   "metadata": {},
   "outputs": [],
   "source": [
    "# converting the graph to line graph so edges become nodes and vice versa\n",
    "edge_centrality = nx.closeness_centrality(nx.line_graph(G_birmingham))\n",
    "nx.set_edge_attributes(G_birmingham, edge_centrality, \"edge_centrality\")"
   ]
  },
  {
   "cell_type": "code",
   "execution_count": null,
   "id": "a81e9ebd",
   "metadata": {},
   "outputs": [],
   "source": [
    "# coloring the edges in original graph with closeness centralities from line graph\n",
    "ec = ox.plot.get_edge_colors_by_attr(G_birmingham, \"edge_centrality\", cmap=\"inferno\")\n",
    "fig, ax = ox.plot_graph(G_birmingham, edge_color=ec, edge_linewidth=2, node_size=0)"
   ]
  },
  {
   "cell_type": "code",
   "execution_count": null,
   "id": "8a205b03",
   "metadata": {},
   "outputs": [],
   "source": [
    "import networkx as nx\n",
    "import matplotlib.pyplot as plt\n",
    "\n",
    "# These lines here calculate the betweenness centrality for all the nodes in \"G_dub\" and stores them in a dictionary (called betweenness list)\n",
    "betweenness_centrality = nx.betweenness_centrality(G_birmingham)\n",
    "\n",
    "# Extracting betweenness_centrality values as a list\n",
    "betweenness_list = list(betweenness_centrality.values())\n",
    "\n",
    "# Print the betweenness centrality list\n",
    "#print(betweenness_list) # This outcome is quite long, as a note, so feel free to remove the hashtag if you wish. "
   ]
  },
  {
   "cell_type": "code",
   "execution_count": null,
   "id": "12febc14",
   "metadata": {},
   "outputs": [],
   "source": [
    "# converting the graph to line graph so edges become nodes and vice versa\n",
    "betweenness_centrality = nx.betweenness_centrality(nx.line_graph(G_birmingham))\n",
    "nx.set_edge_attributes(G_birmingham, betweenness_centrality, \"betweenness_centrality\")\n",
    "# coloring the edges in original graph with betweenness centralities from line graph\n",
    "ec = ox.plot.get_edge_colors_by_attr(G_birmingham, \"betweenness_centrality\", cmap=\"inferno\")\n",
    "fig, ax = ox.plot_graph(G_birmingham, edge_color=ec, edge_linewidth=2, node_size=0)"
   ]
  },
  {
   "cell_type": "code",
   "execution_count": null,
   "id": "773017c4",
   "metadata": {},
   "outputs": [],
   "source": [
    "import networkx as nx\n",
    "import matplotlib.pyplot as plt\n",
    "\n",
    "# This line her|e calculates the degree centrality for all the nodes in \"G_dub\" and stores them in a dictionary (called degree-centrality)\n",
    "degree_centrality = nx.degree_centrality(G_birmingham)\n",
    "\n",
    "# Extracting degree centrality values as a list\n",
    "centrality_list = list(degree_centrality.values())\n",
    "\n",
    "# Print the degree centrality list\n",
    "print(centrality_list) # This outcome is quite long, as a note. "
   ]
  },
  {
   "cell_type": "code",
   "execution_count": null,
   "id": "d4d24949",
   "metadata": {},
   "outputs": [],
   "source": [
    "# converting the graph to line graph so edges become nodes and vice versa\n",
    "degree_centrality = nx.degree_centrality(nx.line_graph(G_birmingham))\n",
    "nx.set_edge_attributes(G_birmingham, degree_centrality, \"degree_centrality\")\n",
    "# coloring the edges in original graph with degree centralities from line graph\n",
    "ec = ox.plot.get_edge_colors_by_attr(G_birmingham, \"degree_centrality\", cmap=\"inferno\")\n",
    "fig, ax = ox.plot_graph(G_birmingham, edge_color=ec, edge_linewidth=2, node_size=0)"
   ]
  },
  {
   "cell_type": "markdown",
   "id": "b5b90d26",
   "metadata": {},
   "source": [
    "### Q6. Create the figure-groud from the selected city"
   ]
  },
  {
   "cell_type": "code",
   "execution_count": null,
   "id": "d347743d",
   "metadata": {},
   "outputs": [],
   "source": [
    "from IPython.display import Image\n",
    "# configure the inline image display\n",
    "img_folder = \"images\"\n",
    "extension = \"png\"\n",
    "size = 300\n",
    "dpi = 40"
   ]
  },
  {
   "cell_type": "code",
   "execution_count": null,
   "id": "3e519d4f",
   "metadata": {},
   "outputs": [],
   "source": [
    "import osmnx as ox\n",
    "from IPython.display import Image\n",
    "\n",
    "# Define Birmingham as the new place\n",
    "place = \"birmingham\"\n",
    "point = (52.4778, -1.8984)  # Birmingham New Street Station\n",
    "\n",
    "# Define street widths based on road types\n",
    "street_widths = {\n",
    "    \"footway\": 0.5,\n",
    "    \"steps\": 0.5,\n",
    "    \"pedestrian\": 0.5,\n",
    "    \"path\": 0.5,\n",
    "    \"track\": 0.5,\n",
    "    \"service\": 2,\n",
    "    \"residential\": 3,\n",
    "    \"primary\": 5,\n",
    "    \"motorway\": 6,\n",
    "}\n",
    "\n",
    "# Define output image settings\n",
    "img_folder = \"images\"  # Adjust if needed\n",
    "extension = \"png\"\n",
    "dpi = 300  # High resolution\n",
    "size = 500  # Adjust the display size\n",
    "\n",
    "# File path for saving the image\n",
    "fp = f\"./{img_folder}/{place}.{extension}\"\n",
    "\n",
    "# Generate and save the figure-ground diagram\n",
    "fig, ax = ox.plot_figure_ground(\n",
    "    point=point,\n",
    "    filepath=fp,\n",
    "    network_type=\"all\",\n",
    "    street_widths=street_widths,\n",
    "    dpi=dpi,\n",
    "    save=True,\n",
    "    show=False,\n",
    "    close=True,\n",
    ")\n",
    "\n",
    "# Display the image\n",
    "Image(fp, height=size, width=size)"
   ]
  },
  {
   "cell_type": "markdown",
   "id": "e891d431",
   "metadata": {},
   "source": [
    "### Q7. Create interactive maps to plot nodes, edges, nodes+edges and one of the centrality measures."
   ]
  },
  {
   "cell_type": "code",
   "execution_count": null,
   "id": "87256c93",
   "metadata": {},
   "outputs": [],
   "source": [
    "# explore graph nodes interactively, with different basemap tiles\n",
    "nodes = ox.graph_to_gdfs(G_birmingham, edges=False)\n",
    "nodes.explore(tiles=\"cartodbpositron\", marker_kwds={\"radius\": 8})"
   ]
  },
  {
   "cell_type": "code",
   "execution_count": null,
   "id": "98d93c81",
   "metadata": {},
   "outputs": [],
   "source": [
    "# explore graph edges interactively, with a simple one-liner\n",
    "ox.graph_to_gdfs(G_birmingham, nodes=False).explore()"
   ]
  },
  {
   "cell_type": "code",
   "execution_count": null,
   "id": "2db11583",
   "metadata": {},
   "outputs": [],
   "source": [
    "# explore nodes and edges together in a single map\n",
    "nodes, edges = ox.graph_to_gdfs(G_birmingham)\n",
    "m = edges.explore(color=\"skyblue\", tiles=\"cartodbdarkmatter\")\n",
    "nodes.explore(m=m, color=\"yellow\", marker_kwds={\"radius\": 6})"
   ]
  },
  {
   "cell_type": "code",
   "execution_count": null,
   "id": "d73dacf7",
   "metadata": {},
   "outputs": [],
   "source": [
    "# explore graph nodes interactively, colored by betweenness centrality\n",
    "nx.set_node_attributes(G_birmingham, nx.betweenness_centrality(G_birmingham, weight=\"length\"), name=\"bc\")\n",
    "nodes = ox.graph_to_gdfs(G_birmingham, edges=False)\n",
    "nodes.explore(tiles=\"cartodbdarkmatter\", column=\"bc\", marker_kwds={\"radius\": 8})"
   ]
  },
  {
   "cell_type": "markdown",
   "id": "c4699de8",
   "metadata": {},
   "source": [
    "### Q8. Export the street network to a GeoPackage (.gpkg) file. Ensure that the exported file contains both node and edge attributes. Demonstrate that the new GeoPackage can be used and read in Python using any of the libraries we have seen in the class to create a simple and interactive map."
   ]
  },
  {
   "cell_type": "code",
   "execution_count": null,
   "id": "1a5822fc",
   "metadata": {},
   "outputs": [],
   "source": [
    "# Save graph to disk as geopackage (for GIS)\n",
    "ox.save_graph_geopackage(G_birmingham, filepath=\"data/birminghamnetwork.gpkg\")"
   ]
  },
  {
   "cell_type": "code",
   "execution_count": null,
   "id": "208e8e15",
   "metadata": {},
   "outputs": [],
   "source": [
    "import geopandas as gpd\n",
    "\n",
    "# Read the GeoPackage file into a GeoDataFrame\n",
    "gdf_nodes, gdf_edges = gpd.read_file(\"data/birminghamnetwork.gpkg\", layer=\"nodes\"), gpd.read_file(\"data/birminghamnetwork.gpkg\", layer=\"edges\")"
   ]
  },
  {
   "cell_type": "code",
   "execution_count": null,
   "id": "4a4da107",
   "metadata": {},
   "outputs": [],
   "source": [
    "# Mapping both the edges and the nodes into one map using .explore\n",
    "m = gdf_edges.explore(color=\"red\", tiles=\"cartodbdarkmatter\")\n",
    "gdf_nodes.explore(m=m, color=\"skyblue\", marker_kwds={\"radius\": 6})"
   ]
  },
  {
   "cell_type": "markdown",
   "id": "08461f58",
   "metadata": {},
   "source": [
    "### Q9. Finally, use OSMnx to extract other urban elements (e.g., buildings, parks) and plot them."
   ]
  },
  {
   "cell_type": "code",
   "execution_count": null,
   "id": "35fe1dc3",
   "metadata": {},
   "outputs": [],
   "source": [
    "import osmnx as ox\n",
    "import geopandas as gpd\n",
    "import matplotlib.pyplot as plt\n",
    "\n",
    "# Defining the point of interest (Birmingham New Street Station)\n",
    "birmingham_city_centre = (52.4778, -1.8984)\n",
    "two_miles = 3218.68  # meters\n",
    "\n",
    "# Extracting the building footprints within a 2-mile radius of Birmingham New Street\n",
    "building_footprints = ox.geometries_from_point(\n",
    "    birmingham_city_centre,\n",
    "    tags={\"building\": True},\n",
    "    dist=two_miles,\n",
    ")\n",
    "\n",
    "# Plotting the road network graph\n",
    "G_birmingham = ox.graph_from_point(birmingham_city_centre, dist=two_miles, network_type=\"drive\")\n",
    "fig, ax = ox.plot_graph(G_birmingham, node_size=0, show=False)\n",
    "\n",
    "# Plotting the building footprints using .plot\n",
    "building_footprints.plot(ax=ax, facecolor='yellow', alpha=1)  # Highlight buildings in yellow\n",
    "\n",
    "# Show the plot\n",
    "plt.show()"
   ]
  },
  {
   "cell_type": "markdown",
   "id": "2ccfc008-d07d-451f-86e8-e4edb053599c",
   "metadata": {},
   "source": [
    "# Lab No 6: Geodemographics (1 Challenge)"
   ]
  },
  {
   "cell_type": "markdown",
   "id": "4aeec99d-a5cc-4e2e-b6e6-e10e38fc51b9",
   "metadata": {},
   "source": [
    "## Challenge 1: Geodemographic Classification\n",
    "\n",
    "In this challenge, you will replicate the process of creating a geodemographic classification using the k-means clustering algorithm. Please select any city in the UK except London, Liverpool, or Glasgow. The main goal is to generate a meaningful and informative classification that captures the diversity of areas in your dataset using the census data ( For England, you can try to use the 2021 or 2011 census, and for Scotland, you need to use the 2011 census data) \n",
    "\n",
    "1. Define the main goal for the geodemographic classification (marketing, retail and service planning). \n",
    "2. Look for census data from the selected city for which you would like to generate the geodemographic classification.\n",
    "3. The census data at the Output Area OA level. Select multiple topics of at least four topics (socio-demographics, economics, health, and so on). Describe your topic selection accordingly based on the goal of your geodemographic classification. For example, if your geodemographics are related to marketing, Economic variables might be the appropriate selection. \n",
    "4. Identify the variables that will be crucial for effectively segmenting neighbourhoods. Evaluate how this choice may impact the classification results, including a DEA analysis.\n",
    "5. Prepare, adjust or clean the dataset addressing any missing values or outliers that could distort the clustering results.\n",
    "6. Include standardisation between areas and variables. Make an appropriate analysis and adjust the variable selection accordingly for any multicollinearity.\n",
    "7. Utilize the k-means clustering algorithm to create a classification based on the selected variables.\n",
    "8. Define the optimum number of clusters (i.e., using the Elblow method). Experiment with different values of k.\n",
    "9. Evaluate your cluster groups (e.g., using PCA) and interpret your cluster centres. Describe your results and repeat the process to adjust the variable selection and cluster groups to provide more meaningful results for your geodemographic goal. Interpret the characteristics of each cluster. What demographic patterns or similarities are prevalent within each group?\n",
    "10. Map the final cluster groups\n",
    "11. Finish the analysis by naming the final clusters and plotting a final map that includes the census values and the provided names.\n",
    "12. Finally, acknowledge the subjective nature of classification and make analytical decisions to produce an optimum classification for your specific purpose. Reflect on the challenges and insights gained during the classification process. Ensure you document your analytical decisions and the rationale behind any important decision. Once your geodemographics are constructed, describe the potential use cases for the geodemographic classification you have built based on your initial goal."
   ]
  },
  {
   "cell_type": "markdown",
   "id": "ed19a368",
   "metadata": {},
   "source": [
    "### Q1. Define the main goal for the geodemographic classification (marketing, retail and service planning). "
   ]
  },
  {
   "cell_type": "markdown",
   "id": "1ba5d84e",
   "metadata": {},
   "source": [
    "### Q2. Look for census data from the selected city for which you would like to generate the geodemographic classification."
   ]
  },
  {
   "cell_type": "markdown",
   "id": "c5fbc1ef",
   "metadata": {},
   "source": [
    "### Q3. The census data at the Output Area OA level. Select multiple topics of at least four topics (socio-demographics, economics, health, and so on). Describe your topic selection accordingly based on the goal of your geodemographic classification. For example, if your geodemographics are related to marketing, Economic variables might be the appropriate selection. "
   ]
  },
  {
   "cell_type": "markdown",
   "id": "75921381",
   "metadata": {},
   "source": [
    "### Q4. Identify the variables that will be crucial for effectively segmenting neighbourhoods. Evaluate how this choice may impact the classification results, including a DEA analysis."
   ]
  },
  {
   "cell_type": "markdown",
   "id": "f6d46349",
   "metadata": {},
   "source": [
    "### Q5. Prepare, adjust or clean the dataset addressing any missing values or outliers that could distort the clustering results."
   ]
  },
  {
   "cell_type": "markdown",
   "id": "d277a10f",
   "metadata": {},
   "source": [
    "### Q6. Include standardisation between areas and variables. Make an appropriate analysis and adjust the variable selection accordingly for any multicollinearity."
   ]
  },
  {
   "cell_type": "markdown",
   "id": "21681111",
   "metadata": {},
   "source": [
    "### Q7. Utilize the k-means clustering algorithm to create a classification based on the selected variables."
   ]
  },
  {
   "cell_type": "markdown",
   "id": "8bff658f",
   "metadata": {},
   "source": [
    "### Q8. Define the optimum number of clusters (i.e., using the Elblow method). Experiment with different values of k."
   ]
  },
  {
   "cell_type": "markdown",
   "id": "5d8de3fb",
   "metadata": {},
   "source": [
    "### Q9. Evaluate your cluster groups (e.g., using PCA) and interpret your cluster centres. Describe your results and repeat the process to adjust the variable selection and cluster groups to provide more meaningful results for your geodemographic goal. Interpret the characteristics of each cluster. What demographic patterns or similarities are prevalent within each group?"
   ]
  },
  {
   "cell_type": "markdown",
   "id": "e3d872fd",
   "metadata": {},
   "source": [
    "### Q10. Map the final cluster groups"
   ]
  },
  {
   "cell_type": "markdown",
   "id": "b91f56b6",
   "metadata": {},
   "source": [
    "### Q11. Finish the analysis by naming the final clusters and plotting a final map that includes the census values and the provided names."
   ]
  },
  {
   "cell_type": "markdown",
   "id": "c9710063",
   "metadata": {},
   "source": [
    "### Q12. Finally, acknowledge the subjective nature of classification and make analytical decisions to produce an optimum classification for your specific purpose. Reflect on the challenges and insights gained during the classification process. Ensure you document your analytical decisions and the rationale behind any important decision. Once your geodemographics are constructed, describe the potential use cases for the geodemographic classification you have built based on your initial goal."
   ]
  },
  {
   "cell_type": "markdown",
   "id": "f3a6440b-3a4f-4a99-a807-19a4d1ef1aa6",
   "metadata": {},
   "source": [
    "# Lab No 7: Spatial Microsimulation (3 Challenges)"
   ]
  },
  {
   "cell_type": "markdown",
   "id": "ab613243-ba52-476b-b88c-ffddadbdb7e8",
   "metadata": {},
   "source": [
    "## Challenge 1: "
   ]
  },
  {
   "cell_type": "markdown",
   "id": "f169811b-991b-4e6d-8a52-57148eec2252",
   "metadata": {},
   "source": [
    "## Challenge 2: "
   ]
  },
  {
   "cell_type": "markdown",
   "id": "54a71392-c3d1-4a33-8366-f11af8ad5f02",
   "metadata": {},
   "source": [
    "## Challenge 3: "
   ]
  },
  {
   "cell_type": "markdown",
   "id": "80db6c2e",
   "metadata": {},
   "source": [
    "# Final Remarks (limitations, barriers, and any additional comments)"
   ]
  }
 ],
 "metadata": {
  "kernelspec": {
   "display_name": "Python 3 (ipykernel)",
   "language": "python",
   "name": "python3"
  },
  "language_info": {
   "codemirror_mode": {
    "name": "ipython",
    "version": 3
   },
   "file_extension": ".py",
   "mimetype": "text/x-python",
   "name": "python",
   "nbconvert_exporter": "python",
   "pygments_lexer": "ipython3",
   "version": "3.11.6"
  }
 },
 "nbformat": 4,
 "nbformat_minor": 5
}
